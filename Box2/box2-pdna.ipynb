{
 "cells": [
  {
   "cell_type": "markdown",
   "metadata": {},
   "source": [
    "Title: Box 2\n",
    "\n",
    "Author: Ruth Hanna\n",
    "\n",
    "Email: rhanna@broadinstitute.org; jdoench@broadinstitute.org\n",
    "\n",
    "Last updated: 2020-02-26\n",
    "\n",
    "This notebook contains the code used to generate the figures in Box 2."
   ]
  },
  {
   "cell_type": "code",
   "execution_count": 5,
   "metadata": {},
   "outputs": [],
   "source": [
    "import pandas as pd \n",
    "import numpy as np\n",
    "from numpy.random import normal, seed\n",
    "import random\n",
    "from math import floor, log\n",
    "import matplotlib.pyplot as plt\n",
    "import seaborn as sns\n",
    "from scipy.stats import pearsonr,gaussian_kde\n",
    "import matplotlib\n",
    "\n",
    "matplotlib.rc('pdf', fonttype=42)\n",
    "matplotlib.rcParams['font.sans-serif'] = \"Arial\"\n",
    "matplotlib.rcParams['font.family'] = \"sans-serif\""
   ]
  },
  {
   "cell_type": "markdown",
   "metadata": {},
   "source": [
    "We use pDNA sequencing data from the Brunello library as a starting point for this analysis. These data are available in Supplementary Data File 1 of Sanson et al. 2018 (https://www.nature.com/articles/s41467-018-07901-8)."
   ]
  },
  {
   "cell_type": "code",
   "execution_count": 7,
   "metadata": {},
   "outputs": [
    {
     "data": {
      "text/html": [
       "<div>\n",
       "<style scoped>\n",
       "    .dataframe tbody tr th:only-of-type {\n",
       "        vertical-align: middle;\n",
       "    }\n",
       "\n",
       "    .dataframe tbody tr th {\n",
       "        vertical-align: top;\n",
       "    }\n",
       "\n",
       "    .dataframe thead th {\n",
       "        text-align: right;\n",
       "    }\n",
       "</style>\n",
       "<table border=\"1\" class=\"dataframe\">\n",
       "  <thead>\n",
       "    <tr style=\"text-align: right;\">\n",
       "      <th></th>\n",
       "      <th>sgRNA Sequence</th>\n",
       "      <th>pDNA</th>\n",
       "    </tr>\n",
       "  </thead>\n",
       "  <tbody>\n",
       "    <tr>\n",
       "      <th>0</th>\n",
       "      <td>AAAAAAAATCCGGACAATGG</td>\n",
       "      <td>522</td>\n",
       "    </tr>\n",
       "    <tr>\n",
       "      <th>1</th>\n",
       "      <td>AAAAAAAGGATGGTGATCAA</td>\n",
       "      <td>511</td>\n",
       "    </tr>\n",
       "    <tr>\n",
       "      <th>2</th>\n",
       "      <td>AAAAAAATGACATTACTGCA</td>\n",
       "      <td>467</td>\n",
       "    </tr>\n",
       "    <tr>\n",
       "      <th>3</th>\n",
       "      <td>AAAAAAATGTCAGTCGAGTG</td>\n",
       "      <td>200</td>\n",
       "    </tr>\n",
       "    <tr>\n",
       "      <th>4</th>\n",
       "      <td>AAAAAACACAAGCAAGACCG</td>\n",
       "      <td>286</td>\n",
       "    </tr>\n",
       "  </tbody>\n",
       "</table>\n",
       "</div>"
      ],
      "text/plain": [
       "         sgRNA Sequence  pDNA\n",
       "0  AAAAAAAATCCGGACAATGG   522\n",
       "1  AAAAAAAGGATGGTGATCAA   511\n",
       "2  AAAAAAATGACATTACTGCA   467\n",
       "3  AAAAAAATGTCAGTCGAGTG   200\n",
       "4  AAAAAACACAAGCAAGACCG   286"
      ]
     },
     "execution_count": 7,
     "metadata": {},
     "output_type": "execute_result"
    }
   ],
   "source": [
    "# Load the pDNA raw read counts\n",
    "df = pd.read_csv('/Users/rhanna/software-tools/brunello_pdna.txt',sep='\\t')\n",
    "df.head()"
   ]
  },
  {
   "cell_type": "markdown",
   "metadata": {},
   "source": [
    "To simulate random noise, we generate a normal distribution centered at 1 with a standard deviation of 0.1. We then multiple each row of the pDNA reads by this random factor. We do this twice, to simulate two \"replicates.\""
   ]
  },
  {
   "cell_type": "code",
   "execution_count": 8,
   "metadata": {},
   "outputs": [],
   "source": [
    "def add_randomness(row):\n",
    "    rand = normal(1,0.1)\n",
    "    return row['pDNA']*rand\n",
    "\n",
    "seed(1)\n",
    "df['A'] = df.apply(add_randomness,axis=1)\n",
    "seed(2)\n",
    "df['B'] = df.apply(add_randomness,axis=1)"
   ]
  },
  {
   "cell_type": "markdown",
   "metadata": {},
   "source": [
    "We then log-transform the raw read counts for each \"replicate\" and for the original pDNA."
   ]
  },
  {
   "cell_type": "code",
   "execution_count": 11,
   "metadata": {},
   "outputs": [],
   "source": [
    "def get_lognorm(scores):\n",
    "    cols = list(scores)[1:]\n",
    "    for col in cols:\n",
    "        # Calculate the log-normalized reads per million\n",
    "        # Add a pseudocount of 1\n",
    "        scores[col + ';lognorm'] = scores[col].apply(lambda x: log(float(x)/float(scores[col].sum())*1000000 + 1,2))\n",
    "    return scores\n",
    "\n",
    "df = get_lognorm(df)\n",
    "df.head()"
   ]
  },
  {
   "cell_type": "markdown",
   "metadata": {},
   "source": [
    "To get log-fold-change values for each \"replicate,\" we subtract off the log-normalized read counts for the pDNA."
   ]
  },
  {
   "cell_type": "code",
   "execution_count": 16,
   "metadata": {},
   "outputs": [
    {
     "data": {
      "text/html": [
       "<div>\n",
       "<style scoped>\n",
       "    .dataframe tbody tr th:only-of-type {\n",
       "        vertical-align: middle;\n",
       "    }\n",
       "\n",
       "    .dataframe tbody tr th {\n",
       "        vertical-align: top;\n",
       "    }\n",
       "\n",
       "    .dataframe thead th {\n",
       "        text-align: right;\n",
       "    }\n",
       "</style>\n",
       "<table border=\"1\" class=\"dataframe\">\n",
       "  <thead>\n",
       "    <tr style=\"text-align: right;\">\n",
       "      <th></th>\n",
       "      <th>sgRNA Sequence</th>\n",
       "      <th>pDNA</th>\n",
       "      <th>A</th>\n",
       "      <th>B</th>\n",
       "      <th>pDNA;lognorm</th>\n",
       "      <th>A;lognorm</th>\n",
       "      <th>B;lognorm</th>\n",
       "      <th>A-pDNA</th>\n",
       "      <th>B-pDNA</th>\n",
       "    </tr>\n",
       "  </thead>\n",
       "  <tbody>\n",
       "    <tr>\n",
       "      <th>0</th>\n",
       "      <td>AAAAAAAATCCGGACAATGG</td>\n",
       "      <td>522</td>\n",
       "      <td>606.790828</td>\n",
       "      <td>500.245240</td>\n",
       "      <td>4.192756</td>\n",
       "      <td>4.398222</td>\n",
       "      <td>4.134821</td>\n",
       "      <td>0.205466</td>\n",
       "      <td>-0.057935</td>\n",
       "    </tr>\n",
       "    <tr>\n",
       "      <th>1</th>\n",
       "      <td>AAAAAAAGGATGGTGATCAA</td>\n",
       "      <td>511</td>\n",
       "      <td>479.739247</td>\n",
       "      <td>508.124765</td>\n",
       "      <td>4.163726</td>\n",
       "      <td>4.077280</td>\n",
       "      <td>4.156094</td>\n",
       "      <td>-0.086446</td>\n",
       "      <td>-0.007632</td>\n",
       "    </tr>\n",
       "    <tr>\n",
       "      <th>2</th>\n",
       "      <td>AAAAAAATGACATTACTGCA</td>\n",
       "      <td>467</td>\n",
       "      <td>442.334379</td>\n",
       "      <td>367.239642</td>\n",
       "      <td>4.041390</td>\n",
       "      <td>3.967376</td>\n",
       "      <td>3.718348</td>\n",
       "      <td>-0.074014</td>\n",
       "      <td>-0.323042</td>\n",
       "    </tr>\n",
       "    <tr>\n",
       "      <th>3</th>\n",
       "      <td>AAAAAAATGTCAGTCGAGTG</td>\n",
       "      <td>200</td>\n",
       "      <td>178.540628</td>\n",
       "      <td>232.805416</td>\n",
       "      <td>2.930437</td>\n",
       "      <td>2.788705</td>\n",
       "      <td>3.122695</td>\n",
       "      <td>-0.141733</td>\n",
       "      <td>0.192257</td>\n",
       "    </tr>\n",
       "    <tr>\n",
       "      <th>4</th>\n",
       "      <td>AAAAAACACAAGCAAGACCG</td>\n",
       "      <td>286</td>\n",
       "      <td>310.750658</td>\n",
       "      <td>234.707742</td>\n",
       "      <td>3.388394</td>\n",
       "      <td>3.496531</td>\n",
       "      <td>3.133092</td>\n",
       "      <td>0.108137</td>\n",
       "      <td>-0.255302</td>\n",
       "    </tr>\n",
       "  </tbody>\n",
       "</table>\n",
       "</div>"
      ],
      "text/plain": [
       "         sgRNA Sequence  pDNA           A           B  pDNA;lognorm  \\\n",
       "0  AAAAAAAATCCGGACAATGG   522  606.790828  500.245240      4.192756   \n",
       "1  AAAAAAAGGATGGTGATCAA   511  479.739247  508.124765      4.163726   \n",
       "2  AAAAAAATGACATTACTGCA   467  442.334379  367.239642      4.041390   \n",
       "3  AAAAAAATGTCAGTCGAGTG   200  178.540628  232.805416      2.930437   \n",
       "4  AAAAAACACAAGCAAGACCG   286  310.750658  234.707742      3.388394   \n",
       "\n",
       "   A;lognorm  B;lognorm    A-pDNA    B-pDNA  \n",
       "0   4.398222   4.134821  0.205466 -0.057935  \n",
       "1   4.077280   4.156094 -0.086446 -0.007632  \n",
       "2   3.967376   3.718348 -0.074014 -0.323042  \n",
       "3   2.788705   3.122695 -0.141733  0.192257  \n",
       "4   3.496531   3.133092  0.108137 -0.255302  "
      ]
     },
     "execution_count": 16,
     "metadata": {},
     "output_type": "execute_result"
    }
   ],
   "source": [
    "df['A-pDNA'] = df['A;lognorm'] - df['pDNA;lognorm']\n",
    "df['B-pDNA'] = df['B;lognorm'] - df['pDNA;lognorm']\n",
    "df.head()"
   ]
  },
  {
   "cell_type": "markdown",
   "metadata": {},
   "source": [
    "Finally, we plot the replicate correlations for the log-normalized reads and the log-fold-change values. The log-normalized reads are highly correlated due to the underlying distribution of the pDNA. However, the log-fold-change values show that there is no true signal."
   ]
  },
  {
   "cell_type": "code",
   "execution_count": 18,
   "metadata": {},
   "outputs": [],
   "source": [
    "def plot_fig(x,y,name,ticks,xlabel,ylabel):\n",
    "    corr = np.round(pearsonr(x, y)[0],2)\n",
    "    xy = np.vstack([x,y])\n",
    "    z = gaussian_kde(xy)(xy)\n",
    "    idx = z.argsort()\n",
    "    x, y, z = x[idx], y[idx], z[idx]\n",
    "    fig, ax = plt.subplots()\n",
    "    ax.scatter(x, y, c=z, s=20, edgecolor='')\n",
    "    lims = [\n",
    "            np.min([ax.get_xlim(), ax.get_ylim()]),  # min of both axes\n",
    "            np.max([ax.get_xlim(), ax.get_ylim()]),  # max of both axes\n",
    "        ]\n",
    "    ax.set_aspect('equal')\n",
    "    ax.set_xlim(lims)\n",
    "    ax.set_ylim(lims)\n",
    "    ax.spines['top'].set_visible(False)\n",
    "    ax.spines['right'].set_visible(False)\n",
    "    ax.text(1,0.05,'r = '+str(corr),fontsize=12,ha='right',va='bottom',transform=ax.transAxes)\n",
    "    plt.xticks(ticks)\n",
    "    plt.yticks(ticks)\n",
    "    plt.xlabel(xlabel)\n",
    "    plt.ylabel(ylabel)\n",
    "    plt.tight_layout()\n",
    "    plt.show()\n",
    "    return fig,ax"
   ]
  },
  {
   "cell_type": "code",
   "execution_count": 18,
   "metadata": {},
   "outputs": [
    {
     "data": {
      "image/png": "[encoded data removed]",
      "text/plain": [
       "<Figure size 432x288 with 1 Axes>"
      ]
     },
     "metadata": {
      "needs_background": "light"
     },
     "output_type": "display_data"
    },
    {
     "data": {
      "text/plain": [
       "(<Figure size 432x288 with 1 Axes>,\n",
       " <matplotlib.axes._subplots.AxesSubplot at 0x11606f110>)"
      ]
     },
     "execution_count": 18,
     "metadata": {},
     "output_type": "execute_result"
    }
   ],
   "source": [
    "x = df['A;lognorm']\n",
    "y = df['B;lognorm']\n",
    "\n",
    "plot_fig(x=x,\n",
    "         y=y,\n",
    "         name='lognorm',\n",
    "         ticks=[0,2,4,6],\n",
    "         xlabel='Rep A\\nlog-transformed reads per million',\n",
    "         ylabel='Rep B\\nlog-transformed reads per million')"
   ]
  },
  {
   "cell_type": "code",
   "execution_count": 19,
   "metadata": {},
   "outputs": [
    {
     "data": {
      "image/png": "[encoded data removed]",
      "text/plain": [
       "<Figure size 432x288 with 1 Axes>"
      ]
     },
     "metadata": {
      "needs_background": "light"
     },
     "output_type": "display_data"
    },
    {
     "data": {
      "text/plain": [
       "(<Figure size 432x288 with 1 Axes>,\n",
       " <matplotlib.axes._subplots.AxesSubplot at 0x11bd14d10>)"
      ]
     },
     "execution_count": 19,
     "metadata": {},
     "output_type": "execute_result"
    }
   ],
   "source": [
    "x = df['A-pDNA']\n",
    "y = df['B-pDNA']\n",
    "\n",
    "plot_fig(x=x,\n",
    "         y=y,\n",
    "         name='lfc',\n",
    "         ticks=[-1,0,1],\n",
    "         xlabel='Rep A\\nlog-fold change from pDNA',\n",
    "         ylabel='Rep B\\nlog-fold change from pDNA')"
   ]
  },
  {
   "cell_type": "markdown",
   "metadata": {},
   "source": [
    "Next, we generate example replicate correlation plots showing good replicate correlations for negative and positive selection screens. For the negative selection screen, we use a screen from Sanson et al. 2018, Supplementary Data File 1, in which A375 cells were screened with the Brunello in the absence of drug. For the positive selection screen, we use a screen from Blondel et al. 2016, in which HT29 cells were screened with the Avana library and challenged with Vibrio parahaemolyticus.\n",
    "\n",
    "Again, we calculate log-normalized reads per million and log-fold-change values for each guide. For the positive selection screen, we also median center and z-score the data. We then generate replicate correlation plots."
   ]
  },
  {
   "cell_type": "code",
   "execution_count": 3,
   "metadata": {},
   "outputs": [
    {
     "data": {
      "text/html": [
       "<div>\n",
       "<style scoped>\n",
       "    .dataframe tbody tr th:only-of-type {\n",
       "        vertical-align: middle;\n",
       "    }\n",
       "\n",
       "    .dataframe tbody tr th {\n",
       "        vertical-align: top;\n",
       "    }\n",
       "\n",
       "    .dataframe thead th {\n",
       "        text-align: right;\n",
       "    }\n",
       "</style>\n",
       "<table border=\"1\" class=\"dataframe\">\n",
       "  <thead>\n",
       "    <tr style=\"text-align: right;\">\n",
       "      <th></th>\n",
       "      <th>sgRNA Sequence</th>\n",
       "      <th>pDNA</th>\n",
       "      <th>RepA</th>\n",
       "      <th>RepB</th>\n",
       "    </tr>\n",
       "  </thead>\n",
       "  <tbody>\n",
       "    <tr>\n",
       "      <th>0</th>\n",
       "      <td>AAAAAAAATCCGGACAATGG</td>\n",
       "      <td>522</td>\n",
       "      <td>729</td>\n",
       "      <td>774</td>\n",
       "    </tr>\n",
       "    <tr>\n",
       "      <th>1</th>\n",
       "      <td>AAAAAAAGGATGGTGATCAA</td>\n",
       "      <td>511</td>\n",
       "      <td>1484</td>\n",
       "      <td>1393</td>\n",
       "    </tr>\n",
       "    <tr>\n",
       "      <th>2</th>\n",
       "      <td>AAAAAAATGACATTACTGCA</td>\n",
       "      <td>467</td>\n",
       "      <td>375</td>\n",
       "      <td>603</td>\n",
       "    </tr>\n",
       "    <tr>\n",
       "      <th>3</th>\n",
       "      <td>AAAAAAATGTCAGTCGAGTG</td>\n",
       "      <td>200</td>\n",
       "      <td>737</td>\n",
       "      <td>506</td>\n",
       "    </tr>\n",
       "    <tr>\n",
       "      <th>4</th>\n",
       "      <td>AAAAAACACAAGCAAGACCG</td>\n",
       "      <td>286</td>\n",
       "      <td>672</td>\n",
       "      <td>352</td>\n",
       "    </tr>\n",
       "  </tbody>\n",
       "</table>\n",
       "</div>"
      ],
      "text/plain": [
       "         sgRNA Sequence  pDNA  RepA  RepB\n",
       "0  AAAAAAAATCCGGACAATGG   522   729   774\n",
       "1  AAAAAAAGGATGGTGATCAA   511  1484  1393\n",
       "2  AAAAAAATGACATTACTGCA   467   375   603\n",
       "3  AAAAAAATGTCAGTCGAGTG   200   737   506\n",
       "4  AAAAAACACAAGCAAGACCG   286   672   352"
      ]
     },
     "execution_count": 3,
     "metadata": {},
     "output_type": "execute_result"
    }
   ],
   "source": [
    "data = pd.read_csv('/Users/rhanna/software-tools/A375_Brunello_read_counts.txt',sep='\\t')\n",
    "data.head()"
   ]
  },
  {
   "cell_type": "code",
   "execution_count": 12,
   "metadata": {},
   "outputs": [],
   "source": [
    "data = get_lognorm(data)"
   ]
  },
  {
   "cell_type": "code",
   "execution_count": 21,
   "metadata": {},
   "outputs": [
    {
     "data": {
      "text/html": [
       "<div>\n",
       "<style scoped>\n",
       "    .dataframe tbody tr th:only-of-type {\n",
       "        vertical-align: middle;\n",
       "    }\n",
       "\n",
       "    .dataframe tbody tr th {\n",
       "        vertical-align: top;\n",
       "    }\n",
       "\n",
       "    .dataframe thead th {\n",
       "        text-align: right;\n",
       "    }\n",
       "</style>\n",
       "<table border=\"1\" class=\"dataframe\">\n",
       "  <thead>\n",
       "    <tr style=\"text-align: right;\">\n",
       "      <th></th>\n",
       "      <th>Construct Barcode</th>\n",
       "      <th>GENE ID</th>\n",
       "      <th>INPUT_RepA</th>\n",
       "      <th>Round3_RepA</th>\n",
       "      <th>INPUT_RepB</th>\n",
       "      <th>Round3_RepB</th>\n",
       "    </tr>\n",
       "  </thead>\n",
       "  <tbody>\n",
       "    <tr>\n",
       "      <th>0</th>\n",
       "      <td>AAAAAAATCCAGCAATGCAG</td>\n",
       "      <td>SHOC2</td>\n",
       "      <td>3.821264</td>\n",
       "      <td>4.350730</td>\n",
       "      <td>3.725537</td>\n",
       "      <td>0.000000</td>\n",
       "    </tr>\n",
       "    <tr>\n",
       "      <th>1</th>\n",
       "      <td>AAAAAACCCGTAGATAGCCT</td>\n",
       "      <td>NDUFA12</td>\n",
       "      <td>3.710173</td>\n",
       "      <td>3.332434</td>\n",
       "      <td>3.996173</td>\n",
       "      <td>2.234113</td>\n",
       "    </tr>\n",
       "    <tr>\n",
       "      <th>2</th>\n",
       "      <td>AAAAAAGAAGAAAAAACCAG</td>\n",
       "      <td>SDAD1</td>\n",
       "      <td>1.552909</td>\n",
       "      <td>0.285259</td>\n",
       "      <td>1.912989</td>\n",
       "      <td>0.422108</td>\n",
       "    </tr>\n",
       "    <tr>\n",
       "      <th>3</th>\n",
       "      <td>AAAAAAGCTCAAGAAGGAGG</td>\n",
       "      <td>FAM98A</td>\n",
       "      <td>2.880950</td>\n",
       "      <td>0.577165</td>\n",
       "      <td>2.754915</td>\n",
       "      <td>3.598627</td>\n",
       "    </tr>\n",
       "    <tr>\n",
       "      <th>4</th>\n",
       "      <td>AAAAAAGGCTGTAAAAGCGT</td>\n",
       "      <td>ZNF253</td>\n",
       "      <td>2.677916</td>\n",
       "      <td>1.857401</td>\n",
       "      <td>2.859897</td>\n",
       "      <td>0.307916</td>\n",
       "    </tr>\n",
       "  </tbody>\n",
       "</table>\n",
       "</div>"
      ],
      "text/plain": [
       "      Construct Barcode  GENE ID  INPUT_RepA  Round3_RepA  INPUT_RepB  \\\n",
       "0  AAAAAAATCCAGCAATGCAG    SHOC2    3.821264     4.350730    3.725537   \n",
       "1  AAAAAACCCGTAGATAGCCT  NDUFA12    3.710173     3.332434    3.996173   \n",
       "2  AAAAAAGAAGAAAAAACCAG    SDAD1    1.552909     0.285259    1.912989   \n",
       "3  AAAAAAGCTCAAGAAGGAGG   FAM98A    2.880950     0.577165    2.754915   \n",
       "4  AAAAAAGGCTGTAAAAGCGT   ZNF253    2.677916     1.857401    2.859897   \n",
       "\n",
       "   Round3_RepB  \n",
       "0     0.000000  \n",
       "1     2.234113  \n",
       "2     0.422108  \n",
       "3     3.598627  \n",
       "4     0.307916  "
      ]
     },
     "execution_count": 21,
     "metadata": {},
     "output_type": "execute_result"
    }
   ],
   "source": [
    "# The data for the positive selection screen are already log-normalized\n",
    "pos_sel_data = pd.read_csv('/Users/rhanna/software-tools/Blondel_Input.txt',sep='\\t')\n",
    "pos_sel_data.head()"
   ]
  },
  {
   "cell_type": "code",
   "execution_count": 27,
   "metadata": {},
   "outputs": [],
   "source": [
    "# Calculate log-fold changes from pDNA\n",
    "for col in list(data)[5:]:\n",
    "    data[str(col.split(';')[0]) + '_lfc'] = data[col] - data['pDNA;lognorm']\n",
    "    \n",
    "# Calculate log-fold changes from input \n",
    "pos_sel_data['RepA_LFC'] = pos_sel_data['Round3_RepA'] - pos_sel_data['INPUT_RepA']\n",
    "pos_sel_data['RepB_LFC'] = pos_sel_data['Round3_RepB'] - pos_sel_data['INPUT_RepB']\n",
    "\n",
    "# Median center the data\n",
    "median_a = pos_sel_data['RepA_LFC'].median()\n",
    "median_b = pos_sel_data['RepB_LFC'].median()\n",
    "pos_sel_data['RepA_LFC_MC'] = pos_sel_data['RepA_LFC'].apply(lambda x: x - median_a)\n",
    "pos_sel_data['RepB_LFC_MC'] = pos_sel_data['RepB_LFC'].apply(lambda x: x - median_b)\n",
    "\n",
    "# Z-score the data\n",
    "mean_a = pos_sel_data['RepA_LFC_MC'].mean()\n",
    "mean_b = pos_sel_data['RepB_LFC_MC'].mean()\n",
    "std_a = pos_sel_data['RepA_LFC_MC'].std()\n",
    "std_b = pos_sel_data['RepB_LFC_MC'].std()\n",
    "pos_sel_data['RepA_Z-score'] = pos_sel_data['RepA_LFC_MC'].apply(lambda x: (x - mean_a) / std_a)\n",
    "pos_sel_data['RepB_Z-score'] = pos_sel_data['RepB_LFC_MC'].apply(lambda x: (x - mean_b) / std_b)"
   ]
  },
  {
   "cell_type": "code",
   "execution_count": 23,
   "metadata": {},
   "outputs": [
    {
     "data": {
      "image/png": "[encoded data removed]",
      "text/plain": [
       "<Figure size 432x288 with 1 Axes>"
      ]
     },
     "metadata": {
      "needs_background": "light"
     },
     "output_type": "display_data"
    },
    {
     "data": {
      "text/plain": [
       "(<Figure size 432x288 with 1 Axes>,\n",
       " <matplotlib.axes._subplots.AxesSubplot at 0x11ce67e90>)"
      ]
     },
     "execution_count": 23,
     "metadata": {},
     "output_type": "execute_result"
    }
   ],
   "source": [
    "x=data['RepA_lfc']\n",
    "y=data['RepB_lfc']\n",
    "plot_fig(x=x,y=y,name='no_drug_lfc',ticks=[-4,-2,0,2],xlabel='Rep A\\nlog-fold change from pDNA',ylabel='Rep B\\nlog-fold change from pDNA')\n"
   ]
  },
  {
   "cell_type": "code",
   "execution_count": 29,
   "metadata": {},
   "outputs": [
    {
     "data": {
      "image/png": "[encoded data removed]",
      "text/plain": [
       "<Figure size 432x288 with 1 Axes>"
      ]
     },
     "metadata": {
      "needs_background": "light"
     },
     "output_type": "display_data"
    },
    {
     "data": {
      "text/plain": [
       "(<Figure size 432x288 with 1 Axes>,\n",
       " <matplotlib.axes._subplots.AxesSubplot at 0x11be71350>)"
      ]
     },
     "execution_count": 29,
     "metadata": {},
     "output_type": "execute_result"
    }
   ],
   "source": [
    "x=pos_sel_data['RepA_Z-score']\n",
    "y=pos_sel_data['RepB_Z-score']\n",
    "plot_fig(x=x,y=y,name='pos_sel',ticks=[-4,0,4,8],xlabel='Rep A\\nz-score',ylabel='Rep B\\nz-score')"
   ]
  },
  {
   "cell_type": "markdown",
   "metadata": {},
   "source": [
    "Finally, we examine the sgRNAs that score with z-score > 3 in either Rep A only, Rep B only, or both. For each of these 3 categories, we count the number of guides that have only 1 guide per gene in that category, the number that have 2 guides per gene in that category, etc. up to all 4 guides per gene. \n",
    "\n",
    "As one would expect in a successful screen, than the majority of guides enriched in either Rep A only or Rep B only are singletons. In contrast, the majority of the guides enriched in both reps are not singletons; rather, there are other guides targeting the same gene that are also enriched in both reps."
   ]
  },
  {
   "cell_type": "code",
   "execution_count": 55,
   "metadata": {},
   "outputs": [
    {
     "data": {
      "text/plain": [
       "1    185\n",
       "2     14\n",
       "Name: guide_count, dtype: int64"
      ]
     },
     "execution_count": 55,
     "metadata": {},
     "output_type": "execute_result"
    }
   ],
   "source": [
    "# Rep A only\n",
    "a_only = pos_sel_data.loc[(pos_sel_data['RepA_Z-score'] >= 3) & (pos_sel_data['RepB_Z-score'] < 3),:]\n",
    "a_only_genes = dict(a_only['GENE ID'].value_counts())\n",
    "a_only.loc[:,'guide_count'] = a_only.loc[:,'GENE ID'].apply(lambda x: a_only_genes[x])\n",
    "a_only.loc[:,'guide_count'].value_counts()"
   ]
  },
  {
   "cell_type": "code",
   "execution_count": 56,
   "metadata": {},
   "outputs": [
    {
     "data": {
      "text/plain": [
       "1    375\n",
       "2     10\n",
       "Name: guide_count, dtype: int64"
      ]
     },
     "execution_count": 56,
     "metadata": {},
     "output_type": "execute_result"
    }
   ],
   "source": [
    "# Rep B only\n",
    "b_only = pos_sel_data.loc[(pos_sel_data['RepA_Z-score'] < 3) & (pos_sel_data['RepB_Z-score'] >= 3),:]\n",
    "b_only_genes = dict(b_only.loc[:,'GENE ID'].value_counts())\n",
    "b_only.loc[:,'guide_count'] = b_only.loc[:,'GENE ID'].apply(lambda x: b_only_genes[x])\n",
    "b_only.loc[:,'guide_count'].value_counts()"
   ]
  },
  {
   "cell_type": "code",
   "execution_count": 57,
   "metadata": {},
   "outputs": [
    {
     "data": {
      "text/plain": [
       "3    6\n",
       "2    6\n",
       "1    5\n",
       "4    4\n",
       "Name: guide_count, dtype: int64"
      ]
     },
     "execution_count": 57,
     "metadata": {},
     "output_type": "execute_result"
    }
   ],
   "source": [
    "# Rep A & B\n",
    "both = pos_sel_data.loc[(pos_sel_data['RepA_Z-score'] >= 3) & (pos_sel_data['RepB_Z-score'] >= 3),:]\n",
    "both_genes = dict(both.loc[:,'GENE ID'].value_counts())\n",
    "both.loc[:,'guide_count'] = both.loc[:,'GENE ID'].apply(lambda x: both_genes[x])\n",
    "both.loc[:,'guide_count'].value_counts()"
   ]
  },
  {
   "cell_type": "markdown",
   "metadata": {},
   "source": [
    "The bar plots using these values were made in GraphPad Prism."
   ]
  }
 ],
 "metadata": {
  "hide_input": false,
  "kernelspec": {
   "display_name": "Python 2",
   "language": "python",
   "name": "python2"
  },
  "language_info": {
   "codemirror_mode": {
    "name": "ipython",
    "version": 2
   },
   "file_extension": ".py",
   "mimetype": "text/x-python",
   "name": "python",
   "nbconvert_exporter": "python",
   "pygments_lexer": "ipython2",
   "version": "2.7.9"
  },
  "toc": {
   "base_numbering": 1,
   "nav_menu": {},
   "number_sections": true,
   "sideBar": true,
   "skip_h1_title": false,
   "title_cell": "Table of Contents",
   "title_sidebar": "Contents",
   "toc_cell": false,
   "toc_position": {},
   "toc_section_display": true,
   "toc_window_display": false
  },
  "varInspector": {
   "cols": {
    "lenName": 16,
    "lenType": 16,
    "lenVar": 40
   },
   "kernels_config": {
    "python": {
     "delete_cmd_postfix": "",
     "delete_cmd_prefix": "del ",
     "library": "var_list.py",
     "varRefreshCmd": "print(var_dic_list())"
    },
    "r": {
     "delete_cmd_postfix": ") ",
     "delete_cmd_prefix": "rm(",
     "library": "var_list.r",
     "varRefreshCmd": "cat(var_dic_list()) "
    }
   },
   "types_to_exclude": [
    "module",
    "function",
    "builtin_function_or_method",
    "instance",
    "_Feature"
   ],
   "window_display": false
  }
 },
 "nbformat": 4,
 "nbformat_minor": 2
}
